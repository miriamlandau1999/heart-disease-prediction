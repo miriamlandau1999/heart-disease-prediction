{
 "cells": [
  {
   "cell_type": "markdown",
   "id": "dbc78727-0993-41fd-b23d-7e38863f8136",
   "metadata": {},
   "source": [
    "# Preprocessing\n",
    "This notebook splits the dataset into train and test data and saves it in the data - processed folder."
   ]
  },
  {
   "cell_type": "code",
   "execution_count": 27,
   "id": "40c85b14-b0ec-405a-bb2c-16c4270eae67",
   "metadata": {},
   "outputs": [],
   "source": [
    "#import packages\n",
    "import pandas as pd\n",
    "from sklearn.model_selection import train_test_split"
   ]
  },
  {
   "cell_type": "code",
   "execution_count": 28,
   "id": "03f632f7-d96c-4d6b-9175-9e9c316bc344",
   "metadata": {},
   "outputs": [],
   "source": [
    "#load dataset\n",
    "df = pd.read_csv('../data/raw/heart.csv')"
   ]
  },
  {
   "cell_type": "code",
   "execution_count": 29,
   "id": "918cd0ca-b1fd-49bc-a3b5-c1c5182eaaf6",
   "metadata": {},
   "outputs": [
    {
     "data": {
      "text/plain": [
       "((820, 14), (205, 14))"
      ]
     },
     "execution_count": 29,
     "metadata": {},
     "output_type": "execute_result"
    }
   ],
   "source": [
    "#split train and test data\n",
    "train_df, test_df = train_test_split(df, test_size=.2, random_state=42)\n",
    "train_df.shape, test_df.shape"
   ]
  },
  {
   "cell_type": "code",
   "execution_count": 30,
   "id": "dd738bc0-554c-48e1-89f2-7d33d8ce74cd",
   "metadata": {},
   "outputs": [],
   "source": [
    "#save train and test data in processed folder\n",
    "train_df.to_csv('../data/processed/train_data.csv')\n",
    "test_df.to_csv('../data/processed/test_data.csv')"
   ]
  },
  {
   "cell_type": "markdown",
   "id": "7ff42621-2f02-43ed-8153-6ba9aa608b4c",
   "metadata": {},
   "source": [
    "# Key Takeaways\n",
    "- training data is 820 records\n",
    "- test data is 205 records"
   ]
  }
 ],
 "metadata": {
  "kernelspec": {
   "display_name": "Python 3 (ipykernel)",
   "language": "python",
   "name": "python3"
  },
  "language_info": {
   "codemirror_mode": {
    "name": "ipython",
    "version": 3
   },
   "file_extension": ".py",
   "mimetype": "text/x-python",
   "name": "python",
   "nbconvert_exporter": "python",
   "pygments_lexer": "ipython3",
   "version": "3.9.6"
  }
 },
 "nbformat": 4,
 "nbformat_minor": 5
}
